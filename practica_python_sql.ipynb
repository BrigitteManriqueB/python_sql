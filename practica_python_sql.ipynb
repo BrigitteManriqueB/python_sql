{
 "cells": [
  {
   "cell_type": "code",
   "execution_count": null,
   "metadata": {},
   "outputs": [],
   "source": [
    "import mysql.connector\n",
    "from mysql.connector import errorcode\n",
    "import pandas as pd"
   ]
  },
  {
   "cell_type": "code",
   "execution_count": null,
   "metadata": {},
   "outputs": [],
   "source": [
    "# 1 y 2. Crea un nuevo \"schema\" llamado \"alumnas-promo-X\"\n",
    "\n",
    "cnx = mysql.connector.connect(user='root', password='AlumnaAdalab', host='127.0.0.1')\n",
    "\n",
    "mycursor = cnx.cursor()\n",
    "\n",
    "mycursor.execute(\"CREATE DATABASE IF NOT EXISTS BBDD_alumnas_promo_c\")\n",
    "\n",
    "cnx.close() "
   ]
  },
  {
   "cell_type": "code",
   "execution_count": null,
   "metadata": {},
   "outputs": [],
   "source": [
    "# 3. Crea una tabla con la información de las alumnas de la promo. Debe incluir: id_alumna, nombre, apellidos, ciudad y teléfono.\n",
    "\n",
    "cnx = mysql.connector.connect(user = 'root', password = 'AlumnaAdalab', host = '127.0.0.1', database = 'BBDD_alumnas_promo_c')\n",
    "mycursor = cnx.cursor()\n",
    "\n",
    "query = 'CREATE TABLE IF NOT EXISTS alumnas(id_alumna INT, nombre VARCHAR(255), apellidos VARCHAR(255), ciudad VARCHAR(50), telefono VARCHAR(10))' \n",
    "\n",
    "mycursor.execute(query)    "
   ]
  },
  {
   "cell_type": "code",
   "execution_count": null,
   "metadata": {},
   "outputs": [
    {
     "name": "stdout",
     "output_type": "stream",
     "text": [
      "[(1, 'Brigitte', 'Manrique', 'Madrid', '652 251'), (2, 'Melissa', 'Montoya', 'Valencia', '623 241'), (3, 'Almu', 'Hernandez', 'Madrid', '625 512'), (4, 'Fatina', 'Lopez', 'Sevilla', '685 521'), (5, 'Laura', 'Torres', 'Caceres', '652 235'), (6, 'Juana', 'Calle', 'Valencia', '645 581'), (7, 'Ana', 'Rojas', 'Cuenca', '685 439'), (8, 'Lucia', 'Baez', 'Bilbao', '698 246'), (9, 'Gimena', 'Gimenez', 'Gijon', '645 431'), (10, 'Angie', 'Toledo', 'Cordoba', '666 999')]\n"
     ]
    }
   ],
   "source": [
    "# 4. Inserta por lo menos 10 datos en la tabla creada en el ejercicio anterior \n",
    "\n",
    "mycursor = cnx.cursor()\n",
    "\n",
    "query = \"INSERT INTO alumnas (id_alumna, nombre, apellidos, ciudad, telefono) VALUES (%s,%s,%s,%s,%s)\"\n",
    "val = [\n",
    "    (1, 'Brigitte', 'Manrique', 'Madrid', '652 251'),\n",
    "    (2, 'Melissa', 'Montoya', 'Valencia', '623 241'),\n",
    "    (3, 'Almu', 'Hernandez', 'Madrid', '625 512'),\n",
    "    (4, 'Fatina', 'Lopez', 'Sevilla', '685 521'),\n",
    "    (5, 'Laura', 'Torres', 'Caceres', '652 235'),\n",
    "    (6, 'Juana', 'Calle', 'Valencia', '645 581'),\n",
    "    (7, 'Ana', 'Rojas', 'Cuenca', '685 439'),\n",
    "    (8, 'Lucia', 'Baez', 'Bilbao', '698 246'),\n",
    "    (9, 'Gimena', 'Gimenez', 'Gijon', '645 431'),\n",
    "    (10, 'Angie', 'Toledo', 'Cordoba', '666 999')\n",
    "]\n",
    "\n",
    "mycursor.executemany(query, val)\n",
    "cnx.commit()\n",
    "print(val)"
   ]
  },
  {
   "cell_type": "code",
   "execution_count": null,
   "metadata": {},
   "outputs": [
    {
     "name": "stdout",
     "output_type": "stream",
     "text": [
      "[('1', 'Brigitte', 'Manrique', 'Madrid', '652 251'), ('2', 'Melissa', 'Montoya', 'Valencia', '6253 241'), ('3', 'Almu', 'Hernandez', 'Madrid', '625 512'), ('4', 'Fatina', 'Lopez', 'Sevilla', '685 521'), ('5', 'Laura', 'Torres', 'Caceres', '652 235'), ('6', 'Juana', 'Calle', 'Valencia', '645 581'), ('7', 'Ana', 'Rojas', 'Cuenca', '685 439'), ('8', 'Lucia', 'Baez', 'Bilbao', '698 246'), ('9', 'Gimena', 'Gimenez', 'Gijon', '645 431'), ('10', 'Angie', 'Toledo', 'Cordoba', '666 999'), ('1', 'Brigitte', 'Manrique', 'Madrid', '652 251'), ('2', 'Melissa', 'Montoya', 'Valencia', '623 241'), ('3', 'Almu', 'Hernandez', 'Madrid', '625 512'), ('4', 'Fatina', 'Lopez', 'Sevilla', '685 521'), ('5', 'Laura', 'Torres', 'Caceres', '652 235'), ('6', 'Juana', 'Calle', 'Valencia', '645 581'), ('7', 'Ana', 'Rojas', 'Cuenca', '685 439'), ('8', 'Lucia', 'Baez', 'Bilbao', '698 246'), ('9', 'Gimena', 'Gimenez', 'Gijon', '645 431'), ('10', 'Angie', 'Toledo', 'Cordoba', '666 999'), ('1', 'Brigitte', 'Manrique', 'Madrid', '652 251'), ('2', 'Melissa', 'Montoya', 'Valencia', '623 241'), ('3', 'Almu', 'Hernandez', 'Madrid', '625 512'), ('4', 'Fatina', 'Lopez', 'Sevilla', '685 521'), ('5', 'Laura', 'Torres', 'Caceres', '652 235'), ('6', 'Juana', 'Calle', 'Valencia', '645 581'), ('7', 'Ana', 'Rojas', 'Cuenca', '685 439'), ('8', 'Lucia', 'Baez', 'Bilbao', '698 246'), ('9', 'Gimena', 'Gimenez', 'Gijon', '645 431'), ('10', 'Angie', 'Toledo', 'Cordoba', '666 999'), ('1', 'Brigitte', 'Manrique', 'Madrid', '652 251'), ('2', 'Melissa', 'Montoya', 'Valencia', '623 241'), ('3', 'Almu', 'Hernandez', 'Madrid', '625 512'), ('4', 'Fatina', 'Lopez', 'Sevilla', '685 521'), ('5', 'Laura', 'Torres', 'Caceres', '652 235'), ('6', 'Juana', 'Calle', 'Valencia', '645 581'), ('7', 'Ana', 'Rojas', 'Cuenca', '685 439'), ('8', 'Lucia', 'Baez', 'Bilbao', '698 246'), ('9', 'Gimena', 'Gimenez', 'Gijon', '645 431'), ('10', 'Angie', 'Toledo', 'Cordoba', '666 999')]\n"
     ]
    }
   ],
   "source": [
    "# 5. Haz una consulta que devuelva todos los registros de la tabla \"alumnas\" \n",
    "mycursor = cnx.cursor()\n",
    "\n",
    "mycursor.execute('SELECT * FROM alumnas')\n",
    "\n",
    "registro_alumnas = mycursor.fetchall()          \n",
    "\n",
    "print(registro_alumnas)"
   ]
  },
  {
   "cell_type": "code",
   "execution_count": null,
   "metadata": {},
   "outputs": [],
   "source": [
    "# 5. y conviértelo en Dataframe \n",
    "\n",
    "df = pd.DataFrame(registro_alumnas, columns = ['id_alumna', 'nombre', 'apellidos', 'ciudad', 'telefono'])"
   ]
  },
  {
   "cell_type": "code",
   "execution_count": null,
   "metadata": {},
   "outputs": [
    {
     "data": {
      "text/html": [
       "<div>\n",
       "<style scoped>\n",
       "    .dataframe tbody tr th:only-of-type {\n",
       "        vertical-align: middle;\n",
       "    }\n",
       "\n",
       "    .dataframe tbody tr th {\n",
       "        vertical-align: top;\n",
       "    }\n",
       "\n",
       "    .dataframe thead th {\n",
       "        text-align: right;\n",
       "    }\n",
       "</style>\n",
       "<table border=\"1\" class=\"dataframe\">\n",
       "  <thead>\n",
       "    <tr style=\"text-align: right;\">\n",
       "      <th></th>\n",
       "      <th>id_alumna</th>\n",
       "      <th>nombre</th>\n",
       "      <th>apellidos</th>\n",
       "      <th>ciudad</th>\n",
       "      <th>telefono</th>\n",
       "    </tr>\n",
       "  </thead>\n",
       "  <tbody>\n",
       "    <tr>\n",
       "      <th>0</th>\n",
       "      <td>1</td>\n",
       "      <td>Brigitte</td>\n",
       "      <td>Manrique</td>\n",
       "      <td>Madrid</td>\n",
       "      <td>652 251</td>\n",
       "    </tr>\n",
       "    <tr>\n",
       "      <th>1</th>\n",
       "      <td>2</td>\n",
       "      <td>Melissa</td>\n",
       "      <td>Montoya</td>\n",
       "      <td>Valencia</td>\n",
       "      <td>6253 241</td>\n",
       "    </tr>\n",
       "    <tr>\n",
       "      <th>2</th>\n",
       "      <td>3</td>\n",
       "      <td>Almu</td>\n",
       "      <td>Hernandez</td>\n",
       "      <td>Madrid</td>\n",
       "      <td>625 512</td>\n",
       "    </tr>\n",
       "    <tr>\n",
       "      <th>3</th>\n",
       "      <td>4</td>\n",
       "      <td>Fatina</td>\n",
       "      <td>Lopez</td>\n",
       "      <td>Sevilla</td>\n",
       "      <td>685 521</td>\n",
       "    </tr>\n",
       "    <tr>\n",
       "      <th>4</th>\n",
       "      <td>5</td>\n",
       "      <td>Laura</td>\n",
       "      <td>Torres</td>\n",
       "      <td>Caceres</td>\n",
       "      <td>652 235</td>\n",
       "    </tr>\n",
       "    <tr>\n",
       "      <th>5</th>\n",
       "      <td>6</td>\n",
       "      <td>Juana</td>\n",
       "      <td>Calle</td>\n",
       "      <td>Valencia</td>\n",
       "      <td>645 581</td>\n",
       "    </tr>\n",
       "    <tr>\n",
       "      <th>6</th>\n",
       "      <td>7</td>\n",
       "      <td>Ana</td>\n",
       "      <td>Rojas</td>\n",
       "      <td>Cuenca</td>\n",
       "      <td>685 439</td>\n",
       "    </tr>\n",
       "    <tr>\n",
       "      <th>7</th>\n",
       "      <td>8</td>\n",
       "      <td>Lucia</td>\n",
       "      <td>Baez</td>\n",
       "      <td>Bilbao</td>\n",
       "      <td>698 246</td>\n",
       "    </tr>\n",
       "    <tr>\n",
       "      <th>8</th>\n",
       "      <td>9</td>\n",
       "      <td>Gimena</td>\n",
       "      <td>Gimenez</td>\n",
       "      <td>Gijon</td>\n",
       "      <td>645 431</td>\n",
       "    </tr>\n",
       "    <tr>\n",
       "      <th>9</th>\n",
       "      <td>10</td>\n",
       "      <td>Angie</td>\n",
       "      <td>Toledo</td>\n",
       "      <td>Cordoba</td>\n",
       "      <td>666 999</td>\n",
       "    </tr>\n",
       "  </tbody>\n",
       "</table>\n",
       "</div>"
      ],
      "text/plain": [
       "  id_alumna    nombre  apellidos    ciudad  telefono\n",
       "0         1  Brigitte   Manrique    Madrid   652 251\n",
       "1         2   Melissa    Montoya  Valencia  6253 241\n",
       "2         3      Almu  Hernandez    Madrid   625 512\n",
       "3         4    Fatina      Lopez   Sevilla   685 521\n",
       "4         5     Laura     Torres   Caceres   652 235\n",
       "5         6     Juana      Calle  Valencia   645 581\n",
       "6         7       Ana      Rojas    Cuenca   685 439\n",
       "7         8     Lucia       Baez    Bilbao   698 246\n",
       "8         9    Gimena    Gimenez     Gijon   645 431\n",
       "9        10     Angie     Toledo   Cordoba   666 999"
      ]
     },
     "execution_count": 25,
     "metadata": {},
     "output_type": "execute_result"
    }
   ],
   "source": [
    "df.head(10) "
   ]
  },
  {
   "cell_type": "code",
   "execution_count": null,
   "metadata": {},
   "outputs": [
    {
     "data": {
      "text/html": [
       "<div>\n",
       "<style scoped>\n",
       "    .dataframe tbody tr th:only-of-type {\n",
       "        vertical-align: middle;\n",
       "    }\n",
       "\n",
       "    .dataframe tbody tr th {\n",
       "        vertical-align: top;\n",
       "    }\n",
       "\n",
       "    .dataframe thead th {\n",
       "        text-align: right;\n",
       "    }\n",
       "</style>\n",
       "<table border=\"1\" class=\"dataframe\">\n",
       "  <thead>\n",
       "    <tr style=\"text-align: right;\">\n",
       "      <th></th>\n",
       "      <th>id_alumna</th>\n",
       "      <th>nombre</th>\n",
       "      <th>apellidos</th>\n",
       "      <th>ciudad</th>\n",
       "      <th>telefono</th>\n",
       "    </tr>\n",
       "  </thead>\n",
       "  <tbody>\n",
       "    <tr>\n",
       "      <th>0</th>\n",
       "      <td>1</td>\n",
       "      <td>Brigitte</td>\n",
       "      <td>Manrique</td>\n",
       "      <td>Madrid</td>\n",
       "      <td>652 251</td>\n",
       "    </tr>\n",
       "    <tr>\n",
       "      <th>1</th>\n",
       "      <td>2</td>\n",
       "      <td>Melissa</td>\n",
       "      <td>Montoya</td>\n",
       "      <td>Valencia</td>\n",
       "      <td>6253 241</td>\n",
       "    </tr>\n",
       "    <tr>\n",
       "      <th>2</th>\n",
       "      <td>3</td>\n",
       "      <td>Almu</td>\n",
       "      <td>Hernandez</td>\n",
       "      <td>Madrid</td>\n",
       "      <td>625 512</td>\n",
       "    </tr>\n",
       "  </tbody>\n",
       "</table>\n",
       "</div>"
      ],
      "text/plain": [
       "  id_alumna    nombre  apellidos    ciudad  telefono\n",
       "0         1  Brigitte   Manrique    Madrid   652 251\n",
       "1         2   Melissa    Montoya  Valencia  6253 241\n",
       "2         3      Almu  Hernandez    Madrid   625 512"
      ]
     },
     "execution_count": 26,
     "metadata": {},
     "output_type": "execute_result"
    }
   ],
   "source": [
    "# 6. Muestra los 3 primeros y  del Dataframe.\n",
    "\n",
    "df.head(3) "
   ]
  },
  {
   "cell_type": "code",
   "execution_count": null,
   "metadata": {},
   "outputs": [
    {
     "data": {
      "text/html": [
       "<div>\n",
       "<style scoped>\n",
       "    .dataframe tbody tr th:only-of-type {\n",
       "        vertical-align: middle;\n",
       "    }\n",
       "\n",
       "    .dataframe tbody tr th {\n",
       "        vertical-align: top;\n",
       "    }\n",
       "\n",
       "    .dataframe thead th {\n",
       "        text-align: right;\n",
       "    }\n",
       "</style>\n",
       "<table border=\"1\" class=\"dataframe\">\n",
       "  <thead>\n",
       "    <tr style=\"text-align: right;\">\n",
       "      <th></th>\n",
       "      <th>id_alumna</th>\n",
       "      <th>nombre</th>\n",
       "      <th>apellidos</th>\n",
       "      <th>ciudad</th>\n",
       "      <th>telefono</th>\n",
       "    </tr>\n",
       "  </thead>\n",
       "  <tbody>\n",
       "    <tr>\n",
       "      <th>37</th>\n",
       "      <td>8</td>\n",
       "      <td>Lucia</td>\n",
       "      <td>Baez</td>\n",
       "      <td>Bilbao</td>\n",
       "      <td>698 246</td>\n",
       "    </tr>\n",
       "    <tr>\n",
       "      <th>38</th>\n",
       "      <td>9</td>\n",
       "      <td>Gimena</td>\n",
       "      <td>Gimenez</td>\n",
       "      <td>Gijon</td>\n",
       "      <td>645 431</td>\n",
       "    </tr>\n",
       "    <tr>\n",
       "      <th>39</th>\n",
       "      <td>10</td>\n",
       "      <td>Angie</td>\n",
       "      <td>Toledo</td>\n",
       "      <td>Cordoba</td>\n",
       "      <td>666 999</td>\n",
       "    </tr>\n",
       "  </tbody>\n",
       "</table>\n",
       "</div>"
      ],
      "text/plain": [
       "   id_alumna  nombre apellidos   ciudad telefono\n",
       "37         8   Lucia      Baez   Bilbao  698 246\n",
       "38         9  Gimena   Gimenez    Gijon  645 431\n",
       "39        10   Angie    Toledo  Cordoba  666 999"
      ]
     },
     "execution_count": 76,
     "metadata": {},
     "output_type": "execute_result"
    }
   ],
   "source": [
    "df.tail(3) "
   ]
  },
  {
   "cell_type": "code",
   "execution_count": null,
   "metadata": {},
   "outputs": [],
   "source": [
    "# 7. consulta para extraer las diferentes ciudades en las que hay alumnas.\n",
    "\n",
    "mycursor = cnx.cursor()\n",
    "\n",
    "mycursor.execute ('SELECT DISTINCT ciudad FROM alumnas')\n",
    "\n",
    "registro_ciudad = mycursor.fetchall()\n",
    "\n",
    "df = pd.DataFrame(registro_ciudad, columns= ['ciudad'])\n",
    "\n",
    "cnx.commit()\n"
   ]
  },
  {
   "cell_type": "code",
   "execution_count": null,
   "metadata": {},
   "outputs": [
    {
     "data": {
      "text/html": [
       "<div>\n",
       "<style scoped>\n",
       "    .dataframe tbody tr th:only-of-type {\n",
       "        vertical-align: middle;\n",
       "    }\n",
       "\n",
       "    .dataframe tbody tr th {\n",
       "        vertical-align: top;\n",
       "    }\n",
       "\n",
       "    .dataframe thead th {\n",
       "        text-align: right;\n",
       "    }\n",
       "</style>\n",
       "<table border=\"1\" class=\"dataframe\">\n",
       "  <thead>\n",
       "    <tr style=\"text-align: right;\">\n",
       "      <th></th>\n",
       "      <th>ciudad</th>\n",
       "    </tr>\n",
       "  </thead>\n",
       "  <tbody>\n",
       "    <tr>\n",
       "      <th>0</th>\n",
       "      <td>Madrid</td>\n",
       "    </tr>\n",
       "    <tr>\n",
       "      <th>1</th>\n",
       "      <td>Valencia</td>\n",
       "    </tr>\n",
       "    <tr>\n",
       "      <th>2</th>\n",
       "      <td>Sevilla</td>\n",
       "    </tr>\n",
       "    <tr>\n",
       "      <th>3</th>\n",
       "      <td>Caceres</td>\n",
       "    </tr>\n",
       "    <tr>\n",
       "      <th>4</th>\n",
       "      <td>Cuenca</td>\n",
       "    </tr>\n",
       "  </tbody>\n",
       "</table>\n",
       "</div>"
      ],
      "text/plain": [
       "     ciudad\n",
       "0    Madrid\n",
       "1  Valencia\n",
       "2   Sevilla\n",
       "3   Caceres\n",
       "4    Cuenca"
      ]
     },
     "execution_count": 32,
     "metadata": {},
     "output_type": "execute_result"
    }
   ],
   "source": [
    "df.head()"
   ]
  },
  {
   "cell_type": "code",
   "execution_count": null,
   "metadata": {},
   "outputs": [],
   "source": [
    "# 8. Crea al menos dos Dataframes con la información de las alumnas de dos ciudades diferentes (usando dos queries).\n",
    "\n",
    "mycursor = cnx.cursor()\n",
    "\n",
    "alumnas_madrid = \"SELECT * FROM alumnas WHERE ciudad = 'Madrid'\"\n",
    "mycursor.execute(alumnas_madrid) \n",
    "alumnas_madrid = mycursor.fetchall()\n",
    "df_madrid = pd.DataFrame(alumnas_madrid, columns= ['id_alumna', 'nombre', 'apellidos', 'ciudad', 'telefono'])\n",
    "cnx.commit()\n",
    "\n",
    "alumnas_valencia = \"SELECT * FROM alumnas WHERE ciudad = 'Valencia'\"\n",
    "mycursor.execute(alumnas_valencia) \n",
    "alumnas_valencia= mycursor.fetchall()\n",
    "df_valencia = pd.DataFrame(alumnas_valencia, columns= ['id_alumna', 'nombre', 'apellidos', 'ciudad', 'telefono'])\n",
    "cnx.commit()"
   ]
  },
  {
   "cell_type": "code",
   "execution_count": null,
   "metadata": {},
   "outputs": [
    {
     "data": {
      "text/html": [
       "<div>\n",
       "<style scoped>\n",
       "    .dataframe tbody tr th:only-of-type {\n",
       "        vertical-align: middle;\n",
       "    }\n",
       "\n",
       "    .dataframe tbody tr th {\n",
       "        vertical-align: top;\n",
       "    }\n",
       "\n",
       "    .dataframe thead th {\n",
       "        text-align: right;\n",
       "    }\n",
       "</style>\n",
       "<table border=\"1\" class=\"dataframe\">\n",
       "  <thead>\n",
       "    <tr style=\"text-align: right;\">\n",
       "      <th></th>\n",
       "      <th>id_alumna</th>\n",
       "      <th>nombre</th>\n",
       "      <th>apellidos</th>\n",
       "      <th>ciudad</th>\n",
       "      <th>telefono</th>\n",
       "    </tr>\n",
       "  </thead>\n",
       "  <tbody>\n",
       "    <tr>\n",
       "      <th>0</th>\n",
       "      <td>1</td>\n",
       "      <td>Brigitte</td>\n",
       "      <td>Manrique</td>\n",
       "      <td>Madrid</td>\n",
       "      <td>652 251</td>\n",
       "    </tr>\n",
       "    <tr>\n",
       "      <th>1</th>\n",
       "      <td>3</td>\n",
       "      <td>Almu</td>\n",
       "      <td>Hernandez</td>\n",
       "      <td>Madrid</td>\n",
       "      <td>625 512</td>\n",
       "    </tr>\n",
       "  </tbody>\n",
       "</table>\n",
       "</div>"
      ],
      "text/plain": [
       "  id_alumna    nombre  apellidos  ciudad telefono\n",
       "0         1  Brigitte   Manrique  Madrid  652 251\n",
       "1         3      Almu  Hernandez  Madrid  625 512"
      ]
     },
     "execution_count": 71,
     "metadata": {},
     "output_type": "execute_result"
    }
   ],
   "source": [
    "df_madrid.head(2)"
   ]
  },
  {
   "cell_type": "code",
   "execution_count": null,
   "metadata": {},
   "outputs": [
    {
     "data": {
      "text/html": [
       "<div>\n",
       "<style scoped>\n",
       "    .dataframe tbody tr th:only-of-type {\n",
       "        vertical-align: middle;\n",
       "    }\n",
       "\n",
       "    .dataframe tbody tr th {\n",
       "        vertical-align: top;\n",
       "    }\n",
       "\n",
       "    .dataframe thead th {\n",
       "        text-align: right;\n",
       "    }\n",
       "</style>\n",
       "<table border=\"1\" class=\"dataframe\">\n",
       "  <thead>\n",
       "    <tr style=\"text-align: right;\">\n",
       "      <th></th>\n",
       "      <th>id_alumna</th>\n",
       "      <th>nombre</th>\n",
       "      <th>apellidos</th>\n",
       "      <th>ciudad</th>\n",
       "      <th>telefono</th>\n",
       "    </tr>\n",
       "  </thead>\n",
       "  <tbody>\n",
       "    <tr>\n",
       "      <th>0</th>\n",
       "      <td>2</td>\n",
       "      <td>Melissa</td>\n",
       "      <td>Montoya</td>\n",
       "      <td>Valencia</td>\n",
       "      <td>6253 241</td>\n",
       "    </tr>\n",
       "    <tr>\n",
       "      <th>1</th>\n",
       "      <td>6</td>\n",
       "      <td>Juana</td>\n",
       "      <td>Calle</td>\n",
       "      <td>Valencia</td>\n",
       "      <td>645 581</td>\n",
       "    </tr>\n",
       "  </tbody>\n",
       "</table>\n",
       "</div>"
      ],
      "text/plain": [
       "  id_alumna   nombre apellidos    ciudad  telefono\n",
       "0         2  Melissa   Montoya  Valencia  6253 241\n",
       "1         6    Juana     Calle  Valencia   645 581"
      ]
     },
     "execution_count": 72,
     "metadata": {},
     "output_type": "execute_result"
    }
   ],
   "source": [
    "df_valencia.head(2)"
   ]
  },
  {
   "cell_type": "code",
   "execution_count": null,
   "metadata": {},
   "outputs": [],
   "source": [
    "cnx.close()"
   ]
  }
 ],
 "metadata": {
  "kernelspec": {
   "display_name": "base",
   "language": "python",
   "name": "python3"
  },
  "language_info": {
   "codemirror_mode": {
    "name": "ipython",
    "version": 3
   },
   "file_extension": ".py",
   "mimetype": "text/x-python",
   "name": "python",
   "nbconvert_exporter": "python",
   "pygments_lexer": "ipython3",
   "version": "3.12.4"
  }
 },
 "nbformat": 4,
 "nbformat_minor": 2
}
